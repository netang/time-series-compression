{
 "cells": [
  {
   "cell_type": "code",
   "execution_count": null,
   "metadata": {},
   "outputs": [],
   "source": []
  },
  {
   "cell_type": "code",
   "execution_count": 1,
   "metadata": {},
   "outputs": [],
   "source": [
    "from __future__ import absolute_import\n",
    "from __future__ import division\n",
    "\n",
    "import os\n",
    "import numpy\n",
    "import itertools\n",
    "from sklearn.utils import shuffle\n",
    "\n",
    "import pandas as pd\n",
    "\n",
    "# Execute rpy2_setup.sh to install dependencies\n",
    "import rpy2.robjects as robjects\n",
    "from rpy2.robjects import pandas2ri\n",
    "from rpy2.robjects import numpy2ri\n",
    "\n",
    "import tensorflow as tf\n",
    "\n",
    "pandas2ri.activate()\n",
    "numpy2ri.activate()\n",
    "\n",
    "import matplotlib.pyplot as plt\n",
    "import numpy as np"
   ]
  },
  {
   "cell_type": "markdown",
   "metadata": {},
   "source": [
    "# Load RData as Pandas DataFrame"
   ]
  },
  {
   "cell_type": "code",
   "execution_count": 2,
   "metadata": {},
   "outputs": [],
   "source": [
    "fault_free_training_rf = robjects.r['load'](\"data/TEP_FaultFree_Training.RData\")\n",
    "fault_free_testing_rf = robjects.r['load'](\"data/TEP_FaultFree_Testing.RData\")\n",
    "\n",
    "faulty_testing_rf = robjects.r['load'](\"data/TEP_Faulty_Testing.RData\")\n",
    "faulty_training_rf = robjects.r['load'](\"data/TEP_Faulty_Training.RData\")\n",
    "\n",
    "# fault_free_training_df = shuffle(pandas2ri.ri2py_dataframe(robjects.globalenv[\"fault_free_training\"]))\n",
    "# fault_free_testing_df = shuffle(pandas2ri.ri2py_dataframe(robjects.globalenv[\"fault_free_testing\"]))\n",
    "\n",
    "fault_free_training_df = pd.DataFrame(shuffle(robjects.globalenv[\"fault_free_training\"]))\n",
    "fault_free_testing_df = pd.DataFrame(shuffle(robjects.globalenv[\"fault_free_testing\"]))\n",
    "\n",
    "faulty_testing_df = pd.DataFrame(shuffle(robjects.globalenv[\"faulty_testing\"]))\n",
    "faulty_training_df = pd.DataFrame(shuffle(robjects.globalenv[\"faulty_training\"]))\n",
    "\n",
    "# print(type(robjects.globalenv[\"fault_free_training\"]))\n",
    "\n",
    "# Cleanup RData variables\n",
    "del fault_free_training_rf\n",
    "del fault_free_testing_rf"
   ]
  },
  {
   "cell_type": "code",
   "execution_count": 4,
   "metadata": {},
   "outputs": [
    {
     "data": {
      "text/html": [
       "<div>\n",
       "<style scoped>\n",
       "    .dataframe tbody tr th:only-of-type {\n",
       "        vertical-align: middle;\n",
       "    }\n",
       "\n",
       "    .dataframe tbody tr th {\n",
       "        vertical-align: top;\n",
       "    }\n",
       "\n",
       "    .dataframe thead th {\n",
       "        text-align: right;\n",
       "    }\n",
       "</style>\n",
       "<table border=\"1\" class=\"dataframe\">\n",
       "  <thead>\n",
       "    <tr style=\"text-align: right;\">\n",
       "      <th></th>\n",
       "      <th>faultNumber</th>\n",
       "      <th>simulationRun</th>\n",
       "      <th>sample</th>\n",
       "      <th>xmeas_1</th>\n",
       "      <th>xmeas_2</th>\n",
       "      <th>xmeas_3</th>\n",
       "      <th>xmeas_4</th>\n",
       "      <th>xmeas_5</th>\n",
       "      <th>xmeas_6</th>\n",
       "      <th>xmeas_7</th>\n",
       "      <th>...</th>\n",
       "      <th>xmv_2</th>\n",
       "      <th>xmv_3</th>\n",
       "      <th>xmv_4</th>\n",
       "      <th>xmv_5</th>\n",
       "      <th>xmv_6</th>\n",
       "      <th>xmv_7</th>\n",
       "      <th>xmv_8</th>\n",
       "      <th>xmv_9</th>\n",
       "      <th>xmv_10</th>\n",
       "      <th>xmv_11</th>\n",
       "    </tr>\n",
       "  </thead>\n",
       "  <tbody>\n",
       "    <tr>\n",
       "      <th>0</th>\n",
       "      <td>0</td>\n",
       "      <td>223.0</td>\n",
       "      <td>832</td>\n",
       "      <td>0.25486</td>\n",
       "      <td>3708.2</td>\n",
       "      <td>4459.3</td>\n",
       "      <td>9.2653</td>\n",
       "      <td>26.679</td>\n",
       "      <td>42.327</td>\n",
       "      <td>2685.5</td>\n",
       "      <td>...</td>\n",
       "      <td>53.355</td>\n",
       "      <td>25.158</td>\n",
       "      <td>60.679</td>\n",
       "      <td>20.743</td>\n",
       "      <td>42.163</td>\n",
       "      <td>41.216</td>\n",
       "      <td>48.264</td>\n",
       "      <td>45.152</td>\n",
       "      <td>40.846</td>\n",
       "      <td>18.977</td>\n",
       "    </tr>\n",
       "    <tr>\n",
       "      <th>1</th>\n",
       "      <td>0</td>\n",
       "      <td>272.0</td>\n",
       "      <td>632</td>\n",
       "      <td>0.25675</td>\n",
       "      <td>3702.0</td>\n",
       "      <td>4451.6</td>\n",
       "      <td>9.3296</td>\n",
       "      <td>26.912</td>\n",
       "      <td>42.205</td>\n",
       "      <td>2696.1</td>\n",
       "      <td>...</td>\n",
       "      <td>53.533</td>\n",
       "      <td>25.687</td>\n",
       "      <td>61.906</td>\n",
       "      <td>21.804</td>\n",
       "      <td>38.491</td>\n",
       "      <td>33.740</td>\n",
       "      <td>47.539</td>\n",
       "      <td>50.601</td>\n",
       "      <td>41.417</td>\n",
       "      <td>17.498</td>\n",
       "    </tr>\n",
       "    <tr>\n",
       "      <th>2</th>\n",
       "      <td>0</td>\n",
       "      <td>1.0</td>\n",
       "      <td>576</td>\n",
       "      <td>0.25316</td>\n",
       "      <td>3718.4</td>\n",
       "      <td>4523.2</td>\n",
       "      <td>9.4187</td>\n",
       "      <td>26.744</td>\n",
       "      <td>42.533</td>\n",
       "      <td>2690.8</td>\n",
       "      <td>...</td>\n",
       "      <td>53.793</td>\n",
       "      <td>25.089</td>\n",
       "      <td>61.629</td>\n",
       "      <td>21.380</td>\n",
       "      <td>39.534</td>\n",
       "      <td>39.250</td>\n",
       "      <td>48.824</td>\n",
       "      <td>46.465</td>\n",
       "      <td>40.685</td>\n",
       "      <td>16.218</td>\n",
       "    </tr>\n",
       "    <tr>\n",
       "      <th>3</th>\n",
       "      <td>0</td>\n",
       "      <td>449.0</td>\n",
       "      <td>6</td>\n",
       "      <td>0.26174</td>\n",
       "      <td>3676.7</td>\n",
       "      <td>4513.2</td>\n",
       "      <td>9.3758</td>\n",
       "      <td>26.751</td>\n",
       "      <td>42.226</td>\n",
       "      <td>2703.6</td>\n",
       "      <td>...</td>\n",
       "      <td>53.752</td>\n",
       "      <td>25.874</td>\n",
       "      <td>58.756</td>\n",
       "      <td>21.815</td>\n",
       "      <td>39.343</td>\n",
       "      <td>32.176</td>\n",
       "      <td>43.158</td>\n",
       "      <td>47.411</td>\n",
       "      <td>41.400</td>\n",
       "      <td>15.929</td>\n",
       "    </tr>\n",
       "    <tr>\n",
       "      <th>4</th>\n",
       "      <td>0</td>\n",
       "      <td>480.0</td>\n",
       "      <td>594</td>\n",
       "      <td>0.24792</td>\n",
       "      <td>3701.3</td>\n",
       "      <td>4529.4</td>\n",
       "      <td>9.3133</td>\n",
       "      <td>27.048</td>\n",
       "      <td>42.358</td>\n",
       "      <td>2709.4</td>\n",
       "      <td>...</td>\n",
       "      <td>54.513</td>\n",
       "      <td>24.398</td>\n",
       "      <td>60.118</td>\n",
       "      <td>22.393</td>\n",
       "      <td>41.300</td>\n",
       "      <td>42.732</td>\n",
       "      <td>48.144</td>\n",
       "      <td>48.273</td>\n",
       "      <td>41.098</td>\n",
       "      <td>16.985</td>\n",
       "    </tr>\n",
       "    <tr>\n",
       "      <th>...</th>\n",
       "      <td>...</td>\n",
       "      <td>...</td>\n",
       "      <td>...</td>\n",
       "      <td>...</td>\n",
       "      <td>...</td>\n",
       "      <td>...</td>\n",
       "      <td>...</td>\n",
       "      <td>...</td>\n",
       "      <td>...</td>\n",
       "      <td>...</td>\n",
       "      <td>...</td>\n",
       "      <td>...</td>\n",
       "      <td>...</td>\n",
       "      <td>...</td>\n",
       "      <td>...</td>\n",
       "      <td>...</td>\n",
       "      <td>...</td>\n",
       "      <td>...</td>\n",
       "      <td>...</td>\n",
       "      <td>...</td>\n",
       "      <td>...</td>\n",
       "    </tr>\n",
       "    <tr>\n",
       "      <th>479995</th>\n",
       "      <td>0</td>\n",
       "      <td>391.0</td>\n",
       "      <td>395</td>\n",
       "      <td>0.21787</td>\n",
       "      <td>3672.7</td>\n",
       "      <td>4487.0</td>\n",
       "      <td>9.3571</td>\n",
       "      <td>26.689</td>\n",
       "      <td>42.083</td>\n",
       "      <td>2703.6</td>\n",
       "      <td>...</td>\n",
       "      <td>54.184</td>\n",
       "      <td>21.580</td>\n",
       "      <td>59.612</td>\n",
       "      <td>21.877</td>\n",
       "      <td>39.396</td>\n",
       "      <td>39.445</td>\n",
       "      <td>47.645</td>\n",
       "      <td>42.893</td>\n",
       "      <td>41.510</td>\n",
       "      <td>20.693</td>\n",
       "    </tr>\n",
       "    <tr>\n",
       "      <th>479996</th>\n",
       "      <td>0</td>\n",
       "      <td>134.0</td>\n",
       "      <td>782</td>\n",
       "      <td>0.26077</td>\n",
       "      <td>3651.1</td>\n",
       "      <td>4491.8</td>\n",
       "      <td>9.2824</td>\n",
       "      <td>27.200</td>\n",
       "      <td>42.239</td>\n",
       "      <td>2709.3</td>\n",
       "      <td>...</td>\n",
       "      <td>54.252</td>\n",
       "      <td>25.213</td>\n",
       "      <td>62.661</td>\n",
       "      <td>22.213</td>\n",
       "      <td>41.192</td>\n",
       "      <td>38.531</td>\n",
       "      <td>46.375</td>\n",
       "      <td>45.913</td>\n",
       "      <td>41.442</td>\n",
       "      <td>21.004</td>\n",
       "    </tr>\n",
       "    <tr>\n",
       "      <th>479997</th>\n",
       "      <td>0</td>\n",
       "      <td>48.0</td>\n",
       "      <td>560</td>\n",
       "      <td>0.24099</td>\n",
       "      <td>3696.9</td>\n",
       "      <td>4538.8</td>\n",
       "      <td>9.3677</td>\n",
       "      <td>26.773</td>\n",
       "      <td>42.545</td>\n",
       "      <td>2701.9</td>\n",
       "      <td>...</td>\n",
       "      <td>54.381</td>\n",
       "      <td>23.531</td>\n",
       "      <td>59.479</td>\n",
       "      <td>22.081</td>\n",
       "      <td>38.180</td>\n",
       "      <td>41.765</td>\n",
       "      <td>47.820</td>\n",
       "      <td>48.529</td>\n",
       "      <td>42.430</td>\n",
       "      <td>20.055</td>\n",
       "    </tr>\n",
       "    <tr>\n",
       "      <th>479998</th>\n",
       "      <td>0</td>\n",
       "      <td>144.0</td>\n",
       "      <td>743</td>\n",
       "      <td>0.26331</td>\n",
       "      <td>3701.9</td>\n",
       "      <td>4482.1</td>\n",
       "      <td>9.3620</td>\n",
       "      <td>26.803</td>\n",
       "      <td>42.429</td>\n",
       "      <td>2692.4</td>\n",
       "      <td>...</td>\n",
       "      <td>53.258</td>\n",
       "      <td>25.707</td>\n",
       "      <td>61.687</td>\n",
       "      <td>21.423</td>\n",
       "      <td>41.816</td>\n",
       "      <td>37.868</td>\n",
       "      <td>48.859</td>\n",
       "      <td>46.428</td>\n",
       "      <td>40.795</td>\n",
       "      <td>16.467</td>\n",
       "    </tr>\n",
       "    <tr>\n",
       "      <th>479999</th>\n",
       "      <td>0</td>\n",
       "      <td>63.0</td>\n",
       "      <td>125</td>\n",
       "      <td>0.25148</td>\n",
       "      <td>3652.1</td>\n",
       "      <td>4566.2</td>\n",
       "      <td>9.3838</td>\n",
       "      <td>26.903</td>\n",
       "      <td>42.336</td>\n",
       "      <td>2695.2</td>\n",
       "      <td>...</td>\n",
       "      <td>53.683</td>\n",
       "      <td>24.726</td>\n",
       "      <td>59.050</td>\n",
       "      <td>21.595</td>\n",
       "      <td>38.800</td>\n",
       "      <td>41.350</td>\n",
       "      <td>47.192</td>\n",
       "      <td>49.018</td>\n",
       "      <td>41.332</td>\n",
       "      <td>13.651</td>\n",
       "    </tr>\n",
       "  </tbody>\n",
       "</table>\n",
       "<p>480000 rows × 55 columns</p>\n",
       "</div>"
      ],
      "text/plain": [
       "        faultNumber  simulationRun  sample  xmeas_1  xmeas_2  xmeas_3  \\\n",
       "0                 0          223.0     832  0.25486   3708.2   4459.3   \n",
       "1                 0          272.0     632  0.25675   3702.0   4451.6   \n",
       "2                 0            1.0     576  0.25316   3718.4   4523.2   \n",
       "3                 0          449.0       6  0.26174   3676.7   4513.2   \n",
       "4                 0          480.0     594  0.24792   3701.3   4529.4   \n",
       "...             ...            ...     ...      ...      ...      ...   \n",
       "479995            0          391.0     395  0.21787   3672.7   4487.0   \n",
       "479996            0          134.0     782  0.26077   3651.1   4491.8   \n",
       "479997            0           48.0     560  0.24099   3696.9   4538.8   \n",
       "479998            0          144.0     743  0.26331   3701.9   4482.1   \n",
       "479999            0           63.0     125  0.25148   3652.1   4566.2   \n",
       "\n",
       "        xmeas_4  xmeas_5  xmeas_6  xmeas_7  ...   xmv_2   xmv_3   xmv_4  \\\n",
       "0        9.2653   26.679   42.327   2685.5  ...  53.355  25.158  60.679   \n",
       "1        9.3296   26.912   42.205   2696.1  ...  53.533  25.687  61.906   \n",
       "2        9.4187   26.744   42.533   2690.8  ...  53.793  25.089  61.629   \n",
       "3        9.3758   26.751   42.226   2703.6  ...  53.752  25.874  58.756   \n",
       "4        9.3133   27.048   42.358   2709.4  ...  54.513  24.398  60.118   \n",
       "...         ...      ...      ...      ...  ...     ...     ...     ...   \n",
       "479995   9.3571   26.689   42.083   2703.6  ...  54.184  21.580  59.612   \n",
       "479996   9.2824   27.200   42.239   2709.3  ...  54.252  25.213  62.661   \n",
       "479997   9.3677   26.773   42.545   2701.9  ...  54.381  23.531  59.479   \n",
       "479998   9.3620   26.803   42.429   2692.4  ...  53.258  25.707  61.687   \n",
       "479999   9.3838   26.903   42.336   2695.2  ...  53.683  24.726  59.050   \n",
       "\n",
       "         xmv_5   xmv_6   xmv_7   xmv_8   xmv_9  xmv_10  xmv_11  \n",
       "0       20.743  42.163  41.216  48.264  45.152  40.846  18.977  \n",
       "1       21.804  38.491  33.740  47.539  50.601  41.417  17.498  \n",
       "2       21.380  39.534  39.250  48.824  46.465  40.685  16.218  \n",
       "3       21.815  39.343  32.176  43.158  47.411  41.400  15.929  \n",
       "4       22.393  41.300  42.732  48.144  48.273  41.098  16.985  \n",
       "...        ...     ...     ...     ...     ...     ...     ...  \n",
       "479995  21.877  39.396  39.445  47.645  42.893  41.510  20.693  \n",
       "479996  22.213  41.192  38.531  46.375  45.913  41.442  21.004  \n",
       "479997  22.081  38.180  41.765  47.820  48.529  42.430  20.055  \n",
       "479998  21.423  41.816  37.868  48.859  46.428  40.795  16.467  \n",
       "479999  21.595  38.800  41.350  47.192  49.018  41.332  13.651  \n",
       "\n",
       "[480000 rows x 55 columns]"
      ]
     },
     "execution_count": 4,
     "metadata": {},
     "output_type": "execute_result"
    }
   ],
   "source": [
    "fault_free_testing_df"
   ]
  },
  {
   "cell_type": "code",
   "execution_count": 5,
   "metadata": {},
   "outputs": [
    {
     "data": {
      "text/plain": [
       "[<matplotlib.lines.Line2D at 0x7f38c04efcc0>]"
      ]
     },
     "execution_count": 5,
     "metadata": {},
     "output_type": "execute_result"
    },
    {
     "data": {
      "image/png": "[encoded data removed]",
      "text/plain": [
       "<Figure size 432x288 with 1 Axes>"
      ]
     },
     "metadata": {
      "needs_background": "light"
     },
     "output_type": "display_data"
    }
   ],
   "source": [
    "plt.plot(fault_free_testing_df['xmv_4'].iloc[:100])"
   ]
  },
  {
   "cell_type": "code",
   "execution_count": null,
   "metadata": {},
   "outputs": [],
   "source": []
  },
  {
   "cell_type": "code",
   "execution_count": 8,
   "metadata": {},
   "outputs": [],
   "source": [
    "ts = []\n",
    "for i in range(0, len(fault_free_training_df)-2048, 256):\n",
    "    ts.append(fault_free_training_df['xmeas_1'][i:i+2048].values)"
   ]
  },
  {
   "cell_type": "code",
   "execution_count": 9,
   "metadata": {},
   "outputs": [
    {
     "data": {
      "text/plain": [
       "(969, 2048)"
      ]
     },
     "execution_count": 9,
     "metadata": {},
     "output_type": "execute_result"
    }
   ],
   "source": [
    "ts = np.vstack(ts)\n",
    "ts.shape"
   ]
  },
  {
   "cell_type": "code",
   "execution_count": 11,
   "metadata": {},
   "outputs": [],
   "source": [
    "np.save('fault_free_training_L2048.npy', ts)"
   ]
  },
  {
   "cell_type": "code",
   "execution_count": null,
   "metadata": {},
   "outputs": [],
   "source": []
  },
  {
   "cell_type": "code",
   "execution_count": 14,
   "metadata": {},
   "outputs": [],
   "source": [
    "ts = []\n",
    "for i in range(0, len(fault_free_testing_df)-2048, 256):\n",
    "    ts.append(fault_free_testing_df['xmeas_1'][i:i+2048].values)"
   ]
  },
  {
   "cell_type": "code",
   "execution_count": 15,
   "metadata": {},
   "outputs": [
    {
     "data": {
      "text/plain": [
       "(1867, 2048)"
      ]
     },
     "execution_count": 15,
     "metadata": {},
     "output_type": "execute_result"
    }
   ],
   "source": [
    "ts = np.vstack(ts)\n",
    "ts.shape"
   ]
  },
  {
   "cell_type": "code",
   "execution_count": 16,
   "metadata": {},
   "outputs": [],
   "source": [
    "np.save('fault_free_testing_L2048.npy', ts)"
   ]
  },
  {
   "cell_type": "code",
   "execution_count": null,
   "metadata": {},
   "outputs": [],
   "source": []
  },
  {
   "cell_type": "code",
   "execution_count": 17,
   "metadata": {},
   "outputs": [],
   "source": [
    "ts = []\n",
    "for i in range(0, len(faulty_testing_df)-2048, 256):\n",
    "    ts.append(faulty_testing_df['xmeas_1'][i:i+2048].values)"
   ]
  },
  {
   "cell_type": "code",
   "execution_count": 18,
   "metadata": {},
   "outputs": [
    {
     "data": {
      "text/plain": [
       "(37492, 2048)"
      ]
     },
     "execution_count": 18,
     "metadata": {},
     "output_type": "execute_result"
    }
   ],
   "source": [
    "ts = np.vstack(ts)\n",
    "ts.shape"
   ]
  },
  {
   "cell_type": "code",
   "execution_count": 19,
   "metadata": {},
   "outputs": [],
   "source": [
    "np.save('faulty_testing_L2048.npy', ts)"
   ]
  },
  {
   "cell_type": "code",
   "execution_count": 25,
   "metadata": {},
   "outputs": [],
   "source": [
    "ts = []\n",
    "for i in range(0, len(faulty_testing_df)-4096, 256):\n",
    "    ts.append(faulty_testing_df['xmeas_1'][i:i+4096].values)"
   ]
  },
  {
   "cell_type": "code",
   "execution_count": 26,
   "metadata": {},
   "outputs": [
    {
     "data": {
      "text/plain": [
       "(37484, 4096)"
      ]
     },
     "execution_count": 26,
     "metadata": {},
     "output_type": "execute_result"
    }
   ],
   "source": [
    "ts = np.vstack(ts)\n",
    "ts.shape"
   ]
  },
  {
   "cell_type": "code",
   "execution_count": 27,
   "metadata": {},
   "outputs": [],
   "source": [
    "np.save('faulty_testing_L4096.npy', ts)"
   ]
  },
  {
   "cell_type": "code",
   "execution_count": 3,
   "metadata": {},
   "outputs": [],
   "source": [
    "ts = []\n",
    "for i in range(0, len(faulty_testing_df)-16384, 256):\n",
    "    ts.append(faulty_testing_df['xmeas_1'][i:i+16384].values)"
   ]
  },
  {
   "cell_type": "code",
   "execution_count": 4,
   "metadata": {},
   "outputs": [
    {
     "data": {
      "text/plain": [
       "(37436, 16384)"
      ]
     },
     "execution_count": 4,
     "metadata": {},
     "output_type": "execute_result"
    }
   ],
   "source": [
    "ts = np.vstack(ts)\n",
    "ts.shape"
   ]
  },
  {
   "cell_type": "code",
   "execution_count": 5,
   "metadata": {},
   "outputs": [],
   "source": [
    "np.save('faulty_testing_L16384.npy', ts)"
   ]
  },
  {
   "cell_type": "code",
   "execution_count": null,
   "metadata": {},
   "outputs": [],
   "source": []
  },
  {
   "cell_type": "code",
   "execution_count": 20,
   "metadata": {},
   "outputs": [],
   "source": [
    "ts = []\n",
    "for i in range(0, len(faulty_training_df)-2048, 256):\n",
    "    ts.append(faulty_training_df['xmeas_1'][i:i+2048].values)"
   ]
  },
  {
   "cell_type": "code",
   "execution_count": 21,
   "metadata": {},
   "outputs": [
    {
     "data": {
      "text/plain": [
       "(19524, 2048)"
      ]
     },
     "execution_count": 21,
     "metadata": {},
     "output_type": "execute_result"
    }
   ],
   "source": [
    "ts = np.vstack(ts)\n",
    "ts.shape"
   ]
  },
  {
   "cell_type": "code",
   "execution_count": 22,
   "metadata": {},
   "outputs": [],
   "source": [
    "np.save('generated_datasets/faulty_training_L2048.npy', ts)"
   ]
  },
  {
   "cell_type": "code",
   "execution_count": null,
   "metadata": {},
   "outputs": [],
   "source": []
  }
 ],
 "metadata": {
  "kernelspec": {
   "display_name": "Python 3",
   "language": "python",
   "name": "python3"
  },
  "language_info": {
   "codemirror_mode": {
    "name": "ipython",
    "version": 3
   },
   "file_extension": ".py",
   "mimetype": "text/x-python",
   "name": "python",
   "nbconvert_exporter": "python",
   "pygments_lexer": "ipython3",
   "version": "3.6.9"
  }
 },
 "nbformat": 4,
 "nbformat_minor": 2
}
