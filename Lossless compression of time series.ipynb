{
 "cells": [
  {
   "cell_type": "markdown",
   "metadata": {},
   "source": [
    "# Lossless time series compression"
   ]
  },
  {
   "cell_type": "code",
   "execution_count": 5,
   "metadata": {},
   "outputs": [],
   "source": [
    "import csv\n",
    "import numpy as np\n",
    "import matplotlib.pyplot as plt\n",
    "from numpy import array\n",
    "\n",
    "import struct\n",
    "import zlib\n",
    "import gzip\n",
    "import bz2\n",
    "import lzma\n",
    "import lz4.frame\n",
    "import zstd\n",
    "import xdelta3"
   ]
  },
  {
   "cell_type": "code",
   "execution_count": 161,
   "metadata": {},
   "outputs": [],
   "source": [
    "def compression_rate_distribution(data, k):\n",
    "    p = 0\n",
    "\n",
    "    compression_rates_lzma = []\n",
    "    compression_rates_bz2 = []\n",
    "    compression_rates_zlib = []\n",
    "    compression_rates_gzip = []\n",
    "    compression_rates_zstd = []\n",
    "    compression_rates_lz4 = []\n",
    "    values = []\n",
    "    std_list = []\n",
    "\n",
    "    for values in data:\n",
    "\n",
    "        p = p + 1\n",
    "\n",
    "        # преобразование в массив байтов\n",
    "        float_byte_arrays = struct.pack('%sf' % len(values), *values)\n",
    "#         print(\"type(float_byte_arrays): {0}\".format(type(float_byte_arrays)))\n",
    "#         print(\"len(float_byte_arrays): {0}\".format(len(float_byte_arrays)))\n",
    "#         print(\"type(float_byte_arrays[0]): {0}\".format(type(float_byte_arrays[0])))\n",
    "#         print(\"sys.getsizeof(float_byte_arrays[0]): {0}\".format(sys.getsizeof(float_byte_arrays[0])))\n",
    "#         print(\"sys.getsizeof(float_byte_arrays): {0}\\n\".format(sys.getsizeof(float_byte_arrays)))\n",
    "        \n",
    "# #         print(\"float_byte_arrays size: {0}\".format(sum((sys.getsizeof(v) for v in float_byte_arrays))))\n",
    "        \n",
    "        \n",
    "#         b = bytes()\n",
    "#         b = b.join((struct.pack('f', val) for val in values))\n",
    "#         print(\"type(b): {0}\".format(type(b)))\n",
    "#         print(\"len(b): {0}\".format(len(b)))\n",
    "#         print(\"type(b[0]): {0}\".format(type(b[0])))\n",
    "#         print(\"sys.getsizeof(b[0]): {0}\".format(sys.getsizeof(b[0])))\n",
    "#         print(\"sys.getsizeof(b): {0}\\n\".format(sys.getsizeof(b)))\n",
    "\n",
    "#         print(bytes(float_byte_arrays[1300]))\n",
    "#         print(bytes(b[1300]))\n",
    "        \n",
    "        # without delta encoding\n",
    "        bytes_of_values = float_byte_arrays\n",
    "        \n",
    "\n",
    "#         # with delta encoding\n",
    "#         integer_values = list(float_byte_arrays)\n",
    "        \n",
    "#         weight_values = sum((sys.getsizeof(v) for v in values))\n",
    "# #         weight_int_values = sum((sys.getsizeof(v) for v in integer_values))\n",
    "# #         print(\"integer values size: {0}\".format(len(integer_values)))\n",
    "#         print(\"weight_values size: {0}\".format(weight_values))\n",
    "#         print(\"weight_int_values size: {0}\".format(weight_int_values))\n",
    "        \n",
    "# #         std_list.append(np.std(integer_values))\n",
    "# #         print(integer_values[:10])\n",
    "#         deltas = array(integer_values[:-1]) - array(integer_values[1:])\n",
    "#         bytes_of_values = deltas.tobytes()\n",
    "#         print(deltas[:9])\n",
    "        \n",
    "#         if(p == 1):\n",
    "#             break\n",
    "\n",
    "        compressed_zlib = zlib.compress(bytes_of_values)\n",
    "        algorithm_name = 'zlib'\n",
    "\n",
    "        compressed_gzip = gzip.compress(bytes_of_values)\n",
    "        algorithm_name = 'gzip'\n",
    "\n",
    "        compressed_bz2 = bz2.compress(bytes_of_values)\n",
    "        algorithm_name = 'bz2'\n",
    "\n",
    "        compressed_lzma = lzma.compress(bytes_of_values)\n",
    "        algorithm_name = 'lzma'\n",
    "\n",
    "        compressed_zstd = zstd.compress(bytes_of_values)\n",
    "        algorithm_name = 'zstd'\n",
    "\n",
    "        compressed_lz4 = lz4.frame.compress(bytes_of_values)\n",
    "        algorithm_name = 'lz4'\n",
    "\n",
    "        compression_rates_lzma.append(len(float_byte_arrays) / len(compressed_lzma))\n",
    "        compression_rates_bz2.append(len(float_byte_arrays) / len(compressed_bz2))\n",
    "        compression_rates_zlib.append(len(float_byte_arrays) / len(compressed_zlib))\n",
    "        compression_rates_gzip.append(len(float_byte_arrays) / len(compressed_gzip))\n",
    "        compression_rates_zstd.append(len(float_byte_arrays) / len(compressed_zstd))\n",
    "        compression_rates_lz4.append(len(float_byte_arrays) / len(compressed_lz4))\n",
    "    \n",
    "    \n",
    "\n",
    "#     time_series_length = len(values)\n",
    "#     file_name = path[path.rfind(\"/\")+1:]\n",
    "#     print('File: {0}'.format(file_name))\n",
    "#     print('Time series length: {0}'.format(time_series_length))\n",
    "#     print('Time series count: {0}'.format(p))\n",
    "    \n",
    "#     txt_file = open(\"ts_compression_charts/\" + file_name + \".txt\",\"w\") \n",
    "#     # \\n is placed to indicate EOL (End of Line) \n",
    "#     txt_file.write('File: {0}'.format(file_name) + '\\n' + 'Time series length: {0}'.format(time_series_length) + '\\n' + 'Time series count: {0}'.format(p)) \n",
    "#     txt_file.close() #to change file access modes     \n",
    "    \n",
    "    fig = plt.figure(num=k, figsize=(14,8))    \n",
    "    \n",
    "    plt.subplot(2, 4, 1)   \n",
    "    plt.title('One of the time series')\n",
    "    plt.plot(values)\n",
    "    \n",
    "    # spectrum calculate and plot\n",
    "    ps = np.abs(np.fft.fft(values))**2\n",
    "    time_step = 1 / 30\n",
    "    freqs = np.fft.fftfreq(len(values), time_step)\n",
    "    idx = np.argsort(freqs)\n",
    "    \n",
    "    plt.subplot(2, 4, 5)\n",
    "    plt.title('spectrum')\n",
    "    plt.plot(freqs[idx], ps[idx])    \n",
    "    \n",
    "    plt.subplot(2, 4, 3)\n",
    "    plt.title('zlib')\n",
    "    plt.ylabel('time series count')\n",
    "    plt.xlabel('compression rate')    \n",
    "    plt.hist(compression_rates_zlib, bins = 20)\n",
    "    \n",
    "    \n",
    "    plt.subplot(2, 4, 4)\n",
    "    plt.title('gzip')\n",
    "    plt.ylabel('time series count')\n",
    "    plt.xlabel('compression rate')    \n",
    "    plt.hist(compression_rates_gzip, bins = 20)\n",
    "    \n",
    "    plt.subplot(2, 4, 2)\n",
    "    plt.title('bz2')\n",
    "    plt.ylabel('time series count')\n",
    "    plt.xlabel('compression rate')    \n",
    "    plt.hist(compression_rates_bz2, bins = 20)  \n",
    "    \n",
    "    plt.subplot(2, 4, 6)\n",
    "    plt.title('lzma')\n",
    "    plt.ylabel('time series count')\n",
    "    plt.xlabel('compression rate')    \n",
    "    plt.hist(compression_rates_lzma, bins = 20)\n",
    "    \n",
    "    plt.subplot(2, 4, 7)\n",
    "    plt.title('zstd')\n",
    "    plt.ylabel('time series count')\n",
    "    plt.xlabel('compression rate')    \n",
    "    plt.hist(compression_rates_zstd, bins = 20)   \n",
    "    \n",
    "    plt.subplot(2, 4, 8)\n",
    "    plt.title('lz4')\n",
    "    plt.ylabel('time series count')\n",
    "    plt.xlabel('compression rate')    \n",
    "    plt.hist(compression_rates_lz4, bins = 20)          \n",
    "    \n",
    "    plt.tight_layout()\n",
    "#     plt.savefig(\"ts_compression_charts/\" + file_name + \".png\")\n",
    "    \n",
    "    print('Mean of zstd compression rate: {0}'.format(np.mean(compression_rates_zstd)))\n",
    "#     print('Mean std of integer values: {0}'.format(np.mean(std_list)))"
   ]
  },
  {
   "cell_type": "markdown",
   "metadata": {},
   "source": [
    "# Load dataset"
   ]
  },
  {
   "cell_type": "markdown",
   "metadata": {},
   "source": [
    "## you can use this Dataset #1"
   ]
  },
  {
   "cell_type": "code",
   "execution_count": 44,
   "metadata": {},
   "outputs": [
    {
     "data": {
      "text/plain": [
       "(1076082, 1000)"
      ]
     },
     "execution_count": 44,
     "metadata": {},
     "output_type": "execute_result"
    }
   ],
   "source": [
    "data = np.load('/home/user/time_series_compression_project/generated_datasets/gas-sensor-array-temperature-modulation.npy')\n",
    "datasetName = 'gas-sensor-array-temperature-modulation (UCI)'\n",
    "data.shape"
   ]
  },
  {
   "cell_type": "markdown",
   "metadata": {},
   "source": [
    "## or this Dataset #2"
   ]
  },
  {
   "cell_type": "code",
   "execution_count": 48,
   "metadata": {},
   "outputs": [
    {
     "data": {
      "text/plain": [
       "(36944, 500)"
      ]
     },
     "execution_count": 48,
     "metadata": {},
     "output_type": "execute_result"
    }
   ],
   "source": [
    "data = np.load('/home/user/time_series_compression_project/generated_datasets/StarLightCurves_L500.npy')\n",
    "datasetName = 'StarLightCurves (UCR archive 2018)'\n",
    "data.shape"
   ]
  },
  {
   "cell_type": "markdown",
   "metadata": {},
   "source": [
    "## or this Dataset #3"
   ]
  },
  {
   "cell_type": "code",
   "execution_count": 160,
   "metadata": {},
   "outputs": [
    {
     "data": {
      "text/plain": [
       "(25600, 1024)"
      ]
     },
     "execution_count": 160,
     "metadata": {},
     "output_type": "execute_result"
    }
   ],
   "source": [
    "data = np.load('/home/user/time-series-compression/generated_datasets/tsimulus_cli_generated_ts_L1024.npy')\n",
    "datasetName = 'generated_ts_zstd_test'\n",
    "data.shape"
   ]
  },
  {
   "cell_type": "code",
   "execution_count": 167,
   "metadata": {},
   "outputs": [
    {
     "name": "stdout",
     "output_type": "stream",
     "text": [
      "(19200, 1024)\n",
      "(6400, 1024)\n"
     ]
    }
   ],
   "source": [
    "quarter = int(len(data)/100*25) # 25% for validation, 75% for training\n",
    "train = data[quarter:,:]\n",
    "test = data[:quarter,:]\n",
    "print(train.shape)\n",
    "print(test.shape)\n",
    "\n",
    "train_size = len(train)\n",
    "test_size = len(test)"
   ]
  },
  {
   "cell_type": "code",
   "execution_count": null,
   "metadata": {},
   "outputs": [],
   "source": []
  },
  {
   "cell_type": "code",
   "execution_count": 165,
   "metadata": {},
   "outputs": [],
   "source": [
    "part_of_data = data[:10000]"
   ]
  },
  {
   "cell_type": "code",
   "execution_count": 168,
   "metadata": {},
   "outputs": [
    {
     "name": "stdout",
     "output_type": "stream",
     "text": [
      "Mean of zstd compression rate: 1.176207616917873\n"
     ]
    },
    {
     "data": {
      "image/png": "[encoded data removed]",
      "text/plain": [
       "<Figure size 1008x576 with 8 Axes>"
      ]
     },
     "metadata": {
      "needs_background": "light"
     },
     "output_type": "display_data"
    }
   ],
   "source": [
    "compression_rate_distribution(test, 1)"
   ]
  },
  {
   "cell_type": "code",
   "execution_count": null,
   "metadata": {},
   "outputs": [],
   "source": []
  }
 ],
 "metadata": {
  "kernelspec": {
   "display_name": "Python 3",
   "language": "python",
   "name": "python3"
  },
  "language_info": {
   "codemirror_mode": {
    "name": "ipython",
    "version": 3
   },
   "file_extension": ".py",
   "mimetype": "text/x-python",
   "name": "python",
   "nbconvert_exporter": "python",
   "pygments_lexer": "ipython3",
   "version": "3.6.8"
  }
 },
 "nbformat": 4,
 "nbformat_minor": 2
}
